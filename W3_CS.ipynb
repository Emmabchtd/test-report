{
  "nbformat": 4,
  "nbformat_minor": 0,
  "metadata": {
    "colab": {
      "provenance": []
    },
    "kernelspec": {
      "name": "python3",
      "display_name": "Python 3"
    },
    "language_info": {
      "name": "python"
    }
  },
  "cells": [
    {
      "cell_type": "code",
      "execution_count": null,
      "metadata": {
        "colab": {
          "base_uri": "https://localhost:8080/"
        },
        "id": "QfVoU3Fc0PTE",
        "outputId": "a68e1f0f-8566-42f2-bdf6-14f13c88a7fb"
      },
      "outputs": [
        {
          "output_type": "stream",
          "name": "stdout",
          "text": [
            "emma\n",
            "hi there\n",
            "10\n",
            "number is 5.5\n",
            "21\n"
          ]
        }
      ],
      "source": [
        "print(\"emma\")\n",
        "print(\"hi\",\"there\")\n",
        "print(10)\n",
        "print(\"number is\",5.5)\n",
        "print(10+11)"
      ]
    },
    {
      "cell_type": "code",
      "source": [
        "print((3*11+5)/20)"
      ],
      "metadata": {
        "colab": {
          "base_uri": "https://localhost:8080/"
        },
        "id": "oHyAPpMj1nLz",
        "outputId": "d0c619f1-3f60-401a-cc61-7db0008f2173"
      },
      "execution_count": null,
      "outputs": [
        {
          "output_type": "stream",
          "name": "stdout",
          "text": [
            "1.9\n"
          ]
        }
      ]
    },
    {
      "cell_type": "code",
      "source": [
        "input(\"Enter a name: \")\n",
        "input(\"Enter a city: \")\n",
        "input()"
      ],
      "metadata": {
        "colab": {
          "base_uri": "https://localhost:8080/",
          "height": 89
        },
        "id": "MDH8U_LN18_X",
        "outputId": "09aa3030-f6a2-448d-953f-5c822d08ac2c"
      },
      "execution_count": null,
      "outputs": [
        {
          "name": "stdout",
          "output_type": "stream",
          "text": [
            "Enter a name: Emma\n",
            "Enter a city: London\n",
            "hi\n"
          ]
        },
        {
          "output_type": "execute_result",
          "data": {
            "text/plain": [
              "'hi'"
            ],
            "application/vnd.google.colaboratory.intrinsic+json": {
              "type": "string"
            }
          },
          "metadata": {},
          "execution_count": 15
        }
      ]
    },
    {
      "cell_type": "code",
      "source": [
        "name = input(\"enter your name: \")\n",
        "city = input(\"enter a city: \")\n",
        "print(\"Hello, my name is\",name, \"from\",city)"
      ],
      "metadata": {
        "colab": {
          "base_uri": "https://localhost:8080/"
        },
        "id": "ULIzzkrE2xi8",
        "outputId": "863e133c-71f6-4145-945b-95e423f428b0"
      },
      "execution_count": null,
      "outputs": [
        {
          "output_type": "stream",
          "name": "stdout",
          "text": [
            "enter your name: Emma\n",
            "enter a city: London\n",
            "Hello, my name is Emma from London\n"
          ]
        }
      ]
    },
    {
      "cell_type": "code",
      "source": [
        "x=10\n",
        "print(x*3)"
      ],
      "metadata": {
        "colab": {
          "base_uri": "https://localhost:8080/"
        },
        "id": "TuI0V7pd3Hct",
        "outputId": "8c9e61d2-77e9-496e-b537-bf7b0f83398f"
      },
      "execution_count": null,
      "outputs": [
        {
          "output_type": "stream",
          "name": "stdout",
          "text": [
            "30\n"
          ]
        }
      ]
    },
    {
      "cell_type": "markdown",
      "source": [
        "Exercise:\n",
        "\n",
        "Ask the user to enter their name, their telephone number and city.\n",
        "\n",
        "Print in the following form:\n",
        "\n",
        "Emma from London telephone number is 5656565656\n"
      ],
      "metadata": {
        "id": "acD7ikNB3fQ7"
      }
    },
    {
      "cell_type": "code",
      "source": [
        "name = input(\"enter your name: \")\n",
        "city = input(\"enter your city: \")\n",
        "tel = input(\"enter your telephone number: \")\n",
        "print(name, \"from\",city,\"telephone number is\",tel)"
      ],
      "metadata": {
        "colab": {
          "base_uri": "https://localhost:8080/"
        },
        "id": "vlDo3RUx4At1",
        "outputId": "abc3a9f6-270a-4fbf-b379-cb72c0360740"
      },
      "execution_count": null,
      "outputs": [
        {
          "output_type": "stream",
          "name": "stdout",
          "text": [
            "enter your name: Emma\n",
            "enter your city: London\n",
            "enter your telephone number: 000202\n",
            "Emma from London telephone number is 000202\n"
          ]
        }
      ]
    },
    {
      "cell_type": "code",
      "source": [
        "print(\"Emma\"+\"1\")\n",
        "print(\"Emma\",\"1\")\n",
        "print(\"Emma\"*3)"
      ],
      "metadata": {
        "colab": {
          "base_uri": "https://localhost:8080/"
        },
        "id": "6OHHjs1a44-Y",
        "outputId": "78c2edd5-55e2-4f15-ffef-3b713cfb7b0f"
      },
      "execution_count": null,
      "outputs": [
        {
          "output_type": "stream",
          "name": "stdout",
          "text": [
            "Emma1\n",
            "Emma 1\n",
            "EmmaEmmaEmma\n"
          ]
        }
      ]
    },
    {
      "cell_type": "code",
      "source": [
        "age = input(\"How old are you? \")\n",
        "print(age)\n",
        "print(age*3)\n",
        "age = int(input(\"How old are you? \"))\n",
        "print(age)\n",
        "print(age*3)"
      ],
      "metadata": {
        "colab": {
          "base_uri": "https://localhost:8080/"
        },
        "id": "gRZtf2_B5PZ1",
        "outputId": "e50c3116-2eee-44d1-a20f-ee8b7554636f"
      },
      "execution_count": null,
      "outputs": [
        {
          "output_type": "stream",
          "name": "stdout",
          "text": [
            "How old are you? 18\n",
            "18\n",
            "181818\n",
            "How old are you? 18\n",
            "18\n",
            "54\n"
          ]
        }
      ]
    },
    {
      "cell_type": "markdown",
      "source": [
        "Exercice\n",
        "\n",
        "Ask the user to give you two number, one after the other.\n",
        "Print the addition of numbers.\n",
        "\n",
        "5\n",
        "6\n",
        "11"
      ],
      "metadata": {
        "id": "MzyXTXhZ55-o"
      }
    },
    {
      "cell_type": "code",
      "source": [
        "x = int(input(\"Enter a number: \"))\n",
        "y = int(input(\"Enter a number: \"))\n",
        "print(x+y)\n",
        "\n",
        "x = int(input(\"Enter a number: \"))\n",
        "y = float(input(\"Enter a number: \"))\n",
        "print(x+y)\n",
        "\n",
        "x = float(input(\"Enter a number: \"))\n",
        "y = float(input(\"Enter a number: \"))\n",
        "print(x+y)"
      ],
      "metadata": {
        "colab": {
          "base_uri": "https://localhost:8080/"
        },
        "id": "Ok1eE_gI6DgA",
        "outputId": "93cc617a-9a19-438f-b6a3-ddc2966029d5"
      },
      "execution_count": null,
      "outputs": [
        {
          "output_type": "stream",
          "name": "stdout",
          "text": [
            "Enter a number: 5\n",
            "Enter a number: 6\n",
            "11\n",
            "Enter a number: 5\n",
            "Enter a number: 5.5\n",
            "10.5\n",
            "Enter a number: 8.5\n",
            "Enter a number: 9\n",
            "17.5\n"
          ]
        }
      ]
    },
    {
      "cell_type": "code",
      "source": [
        "x = 10\n",
        "y = 0\n",
        "if y==0:\n",
        "  print(\"I can't divide by 0.\")\n",
        "else:\n",
        "  print(x/y)"
      ],
      "metadata": {
        "colab": {
          "base_uri": "https://localhost:8080/"
        },
        "id": "pnFgkAwo7zxU",
        "outputId": "130c42af-0785-4783-cf2c-35949274d427"
      },
      "execution_count": null,
      "outputs": [
        {
          "output_type": "stream",
          "name": "stdout",
          "text": [
            "I can't divide by 0.\n"
          ]
        }
      ]
    },
    {
      "cell_type": "code",
      "source": [
        "x = int(input(\"Enter a number: \"))\n",
        "y = int(input(\"Enter a number: \"))\n",
        "if y==0:\n",
        "  print(\"I can't divide by 0.\")\n",
        "  print(\"You are stupid.\")\n",
        "else:\n",
        "  print(x/y)"
      ],
      "metadata": {
        "colab": {
          "base_uri": "https://localhost:8080/"
        },
        "id": "bcTa700a8bxt",
        "outputId": "7f7dd7bf-f877-4c52-870d-6498008c1f25"
      },
      "execution_count": null,
      "outputs": [
        {
          "output_type": "stream",
          "name": "stdout",
          "text": [
            "Enter a number: 5\n",
            "Enter a number: 0\n",
            "I can't divide by 0.\n",
            "You are stupid.\n"
          ]
        }
      ]
    },
    {
      "cell_type": "markdown",
      "source": [
        "Ask the user to enter two integer numbers.\n",
        "Print the largest number.\n",
        "\n",
        "5\n",
        "12\n",
        "Max is 12"
      ],
      "metadata": {
        "id": "sVv9qn8d9DC-"
      }
    },
    {
      "cell_type": "code",
      "source": [
        "x = int(input(\"Enter an integer number: \"))\n",
        "y = int(input(\"Enter an integer number: \"))\n",
        "\n",
        "if x>y:\n",
        "  print(\"Max is\",x)\n",
        "else:\n",
        "  print(\"Max is\",y)"
      ],
      "metadata": {
        "colab": {
          "base_uri": "https://localhost:8080/"
        },
        "id": "fmMeX9fg9jxw",
        "outputId": "09acee38-c7e3-4fd4-a2c2-e14d5dabe7b7"
      },
      "execution_count": null,
      "outputs": [
        {
          "output_type": "stream",
          "name": "stdout",
          "text": [
            "Enter an integer number: 5\n",
            "Enter an integer number: 8\n",
            "Max is 8\n"
          ]
        }
      ]
    },
    {
      "cell_type": "code",
      "source": [
        "x = int(input(\"Enter a number: \"))\n",
        "if x>0:\n",
        "  print(\"Positive\")\n",
        "elif x==0:\n",
        "  print(\"0\")\n",
        "else:\n",
        "  print(\"Negative\")\n"
      ],
      "metadata": {
        "colab": {
          "base_uri": "https://localhost:8080/"
        },
        "id": "TOifqXUmGYla",
        "outputId": "83da8ace-de80-447f-df31-e2a3e0eca13b"
      },
      "execution_count": null,
      "outputs": [
        {
          "output_type": "stream",
          "name": "stdout",
          "text": [
            "Enter a number: -2\n",
            "Negative\n"
          ]
        }
      ]
    },
    {
      "cell_type": "code",
      "source": [
        "x = int(input(\"Enter a number: \"))\n",
        "if x>=0 and x<10:\n",
        "  print(\"the number is between 0 and 10\")\n",
        "else:\n",
        "  print(\"Something else...\")"
      ],
      "metadata": {
        "colab": {
          "base_uri": "https://localhost:8080/"
        },
        "id": "5CRFDM6FHI8g",
        "outputId": "1e0a32e7-69d9-4f0a-c545-a228f1d8a81a"
      },
      "execution_count": null,
      "outputs": [
        {
          "output_type": "stream",
          "name": "stdout",
          "text": [
            "Enter a number: 0\n",
            "the number is between 0 and 10\n"
          ]
        }
      ]
    },
    {
      "cell_type": "code",
      "source": [
        "score = float(input(\"Enter a number: \"))\n",
        "if score>=0 and score<10:\n",
        "  print(\"Fail\")\n",
        "elif score>=10 and score<15:\n",
        "  print(\"Pass\")\n",
        "elif score>=15 and score<=20:\n",
        "  print(\"Distinction\")\n",
        "else:\n",
        "  print(\"error\")"
      ],
      "metadata": {
        "colab": {
          "base_uri": "https://localhost:8080/"
        },
        "id": "3ooZDEUEIBtl",
        "outputId": "ab800924-590f-488c-8e80-1fb7c8f14f16"
      },
      "execution_count": null,
      "outputs": [
        {
          "output_type": "stream",
          "name": "stdout",
          "text": [
            "Enter a number: 15\n",
            "Distinction\n"
          ]
        }
      ]
    }
  ]
}