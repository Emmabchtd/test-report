{
  "nbformat": 4,
  "nbformat_minor": 0,
  "metadata": {
    "colab": {
      "provenance": []
    },
    "kernelspec": {
      "name": "python3",
      "display_name": "Python 3"
    },
    "language_info": {
      "name": "python"
    }
  },
  "cells": [
    {
      "cell_type": "code",
      "execution_count": null,
      "metadata": {
        "colab": {
          "base_uri": "https://localhost:8080/"
        },
        "id": "9AIqXtAUFCAn",
        "outputId": "239a27f1-fe7e-45a5-e76c-a72fc06000ec"
      },
      "outputs": [
        {
          "output_type": "stream",
          "name": "stdout",
          "text": [
            "Enter a number: 5\n",
            "Enter a number: 0\n",
            "Enter a sign (+,-,*,/): /\n",
            "I do not support this yet!\n"
          ]
        }
      ],
      "source": [
        "num1 = float(input(\"Enter a number: \"))\n",
        "num2 = float(input(\"Enter a number: \"))\n",
        "operation = input(\"Enter a sign (+,-,*,/): \")\n",
        "\n",
        "if operation==\"+\":\n",
        "  print(num1+num2)\n",
        "elif operation==\"-\":\n",
        "  print(num1-num2)\n",
        "elif operation==\"*\":\n",
        "  print(num1*num2)\n",
        "elif operation==\"/\" and num2!=0:\n",
        "  print(num1/num2)\n",
        "else:\n",
        "  print(\"I do not support this yet!\")"
      ]
    },
    {
      "cell_type": "code",
      "source": [
        "num1 = float(input(\"Enter a number: \"))\n",
        "num2 = float(input(\"Enter a number: \"))\n",
        "operation = input(\"Enter a sign (+,-,*,/,**): \")\n",
        "\n",
        "if operation==\"+\":\n",
        "  print(num1+num2)\n",
        "elif operation==\"-\":\n",
        "  print(num1-num2)\n",
        "elif operation==\"*\":\n",
        "  print(num1*num2)\n",
        "elif operation==\"/\" and num2!=0:\n",
        "  print(num1/num2)\n",
        "elif operation==\"**\":\n",
        "  print(num1**num2)\n",
        "elif operation==\">\" and num1>num2:\n",
        "  print(num1)\n",
        "elif operation==\"<\" and num1<num2:\n",
        "  print(num1)\n",
        "else:\n",
        "  print(\"I do not support this yet!\")"
      ],
      "metadata": {
        "colab": {
          "base_uri": "https://localhost:8080/"
        },
        "id": "1rt5VDrzIfWZ",
        "outputId": "c9d43595-edb1-4687-cfac-188de29dd279"
      },
      "execution_count": null,
      "outputs": [
        {
          "output_type": "stream",
          "name": "stdout",
          "text": [
            "Enter a number: 3\n",
            "Enter a number: 5\n",
            "Enter a sign (+,-,*,/,**): <\n",
            "3.0\n"
          ]
        }
      ]
    },
    {
      "cell_type": "code",
      "source": [
        "text = \"My name is Emma and I live in London.\"\n",
        "print(text[0])\n",
        "print(text[5])\n",
        "print(text[-2])"
      ],
      "metadata": {
        "colab": {
          "base_uri": "https://localhost:8080/"
        },
        "id": "YfDgLgLvLYcN",
        "outputId": "23dc1cfc-1845-41b6-c71b-908282b39c9b"
      },
      "execution_count": null,
      "outputs": [
        {
          "output_type": "stream",
          "name": "stdout",
          "text": [
            "M\n",
            "m\n",
            "n\n"
          ]
        }
      ]
    },
    {
      "cell_type": "code",
      "source": [
        "name = \"ABCDEF\"\n",
        "print(name[5])\n",
        "print(name[-1])"
      ],
      "metadata": {
        "colab": {
          "base_uri": "https://localhost:8080/"
        },
        "id": "f6YL3ADVL8-f",
        "outputId": "861c8359-cad1-4abc-909e-5c3c49f7759a"
      },
      "execution_count": null,
      "outputs": [
        {
          "output_type": "stream",
          "name": "stdout",
          "text": [
            "F\n",
            "F\n"
          ]
        }
      ]
    },
    {
      "cell_type": "code",
      "source": [
        "text = \"My name is Emma and I live in London.\"\n",
        "print(text[0:5])\n",
        "print(text[0:7])\n",
        "print(text[11:15])\n",
        "print(text[-7:])"
      ],
      "metadata": {
        "colab": {
          "base_uri": "https://localhost:8080/"
        },
        "id": "xN9yhk0iMzSf",
        "outputId": "03c8098b-da7d-40ad-80fd-d9dbd72be1af"
      },
      "execution_count": null,
      "outputs": [
        {
          "output_type": "stream",
          "name": "stdout",
          "text": [
            "My na\n",
            "My name\n",
            "Emma\n",
            "London.\n"
          ]
        }
      ]
    },
    {
      "cell_type": "code",
      "source": [
        "text = \"London is the capital and largest city of both England and the United Kingdom, with a population of 8,866,180 in 2022.\"\n",
        "print(len(text))\n",
        "print(text[47:54])\n",
        "print(text[-5:-1])"
      ],
      "metadata": {
        "colab": {
          "base_uri": "https://localhost:8080/"
        },
        "id": "V6FS6H3HN3PK",
        "outputId": "40b77dda-72ad-4703-f0ee-68134d68c6b3"
      },
      "execution_count": null,
      "outputs": [
        {
          "output_type": "stream",
          "name": "stdout",
          "text": [
            "118\n",
            "England\n",
            "2022\n"
          ]
        }
      ]
    },
    {
      "cell_type": "code",
      "source": [
        "text = input(\"Where are you from? \")\n",
        "\n",
        "# If the city starts with L then print \"Capital L\"\n",
        "# else print \"Something else\"\n",
        "# Check if the text has a . at the end, if so say you have a dot.\n",
        "# If not say there is not dot.\n",
        "\n",
        "if text[0]==\"L\":\n",
        "  print(\"Capital L\")\n",
        "else:\n",
        "  print(\"Something else\")\n",
        "\n",
        "if text[-1]==\".\":\n",
        "  print(\"There is a dot.\")\n",
        "else:\n",
        "  print(\"There is no dot.\")"
      ],
      "metadata": {
        "colab": {
          "base_uri": "https://localhost:8080/"
        },
        "id": "xs2CB4oPO6K-",
        "outputId": "7525d251-45e2-48d2-f179-e109a75bf472"
      },
      "execution_count": null,
      "outputs": [
        {
          "output_type": "stream",
          "name": "stdout",
          "text": [
            "Where are you from? Paris\n",
            "Something else\n",
            "There is no dot.\n"
          ]
        }
      ]
    }
  ]
}